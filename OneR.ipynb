{
  "nbformat": 4,
  "nbformat_minor": 0,
  "metadata": {
    "colab": {
      "provenance": [],
      "authorship_tag": "ABX9TyMTfmfa7KWiGPdurYM5dvW+",
      "include_colab_link": true
    },
    "kernelspec": {
      "name": "python3",
      "display_name": "Python 3"
    },
    "language_info": {
      "name": "python"
    }
  },
  "cells": [
    {
      "cell_type": "markdown",
      "metadata": {
        "id": "view-in-github",
        "colab_type": "text"
      },
      "source": [
        "<a href=\"https://colab.research.google.com/github/joaohnt/estudo_ml/blob/main/OneR.ipynb\" target=\"_parent\"><img src=\"https://colab.research.google.com/assets/colab-badge.svg\" alt=\"Open In Colab\"/></a>"
      ]
    },
    {
      "cell_type": "code",
      "execution_count": 1,
      "metadata": {
        "colab": {
          "base_uri": "https://localhost:8080/",
          "height": 1000
        },
        "collapsed": true,
        "id": "qYL-Oi9qaIBg",
        "outputId": "543c8733-51ff-4884-aee5-2ffa7c1418fc"
      },
      "outputs": [
        {
          "output_type": "stream",
          "name": "stdout",
          "text": [
            "Collecting Orange3\n",
            "  Downloading Orange3-3.38.1-cp310-cp310-manylinux_2_17_x86_64.manylinux2014_x86_64.whl.metadata (3.6 kB)\n",
            "Collecting AnyQt>=0.2.0 (from Orange3)\n",
            "  Downloading AnyQt-0.2.0-py3-none-any.whl.metadata (1.5 kB)\n",
            "Collecting baycomp>=1.0.2 (from Orange3)\n",
            "  Downloading baycomp-1.0.3.tar.gz (15 kB)\n",
            "  Preparing metadata (setup.py) ... \u001b[?25l\u001b[?25hdone\n",
            "Requirement already satisfied: bottleneck>=1.3.4 in /usr/local/lib/python3.10/dist-packages (from Orange3) (1.4.2)\n",
            "Collecting catboost>=1.0.1 (from Orange3)\n",
            "  Downloading catboost-1.2.7-cp310-cp310-manylinux2014_x86_64.whl.metadata (1.2 kB)\n",
            "Requirement already satisfied: chardet>=3.0.2 in /usr/local/lib/python3.10/dist-packages (from Orange3) (5.2.0)\n",
            "Requirement already satisfied: httpx>=0.21.0 in /usr/local/lib/python3.10/dist-packages (from Orange3) (0.28.1)\n",
            "Requirement already satisfied: joblib>=1.2.0 in /usr/local/lib/python3.10/dist-packages (from Orange3) (1.4.2)\n",
            "Requirement already satisfied: keyring in /usr/lib/python3/dist-packages (from Orange3) (23.5.0)\n",
            "Collecting keyrings.alt (from Orange3)\n",
            "  Downloading keyrings.alt-5.0.2-py3-none-any.whl.metadata (3.6 kB)\n",
            "Requirement already satisfied: matplotlib>=3.2.0 in /usr/local/lib/python3.10/dist-packages (from Orange3) (3.10.0)\n",
            "Requirement already satisfied: networkx in /usr/local/lib/python3.10/dist-packages (from Orange3) (3.4.2)\n",
            "Requirement already satisfied: numpy<2,>=1.20.0 in /usr/local/lib/python3.10/dist-packages (from Orange3) (1.26.4)\n",
            "Collecting openTSNE!=0.7.0,>=0.6.1 (from Orange3)\n",
            "  Downloading openTSNE-1.0.2-cp310-cp310-manylinux_2_17_x86_64.manylinux2014_x86_64.whl.metadata (7.8 kB)\n",
            "Requirement already satisfied: openpyxl>=3.1.3 in /usr/local/lib/python3.10/dist-packages (from Orange3) (3.1.5)\n",
            "Collecting orange-canvas-core<0.3a,>=0.2.5 (from Orange3)\n",
            "  Downloading orange_canvas_core-0.2.5-py3-none-any.whl.metadata (2.1 kB)\n",
            "Collecting orange-widget-base>=4.25.0 (from Orange3)\n",
            "  Downloading orange_widget_base-4.25.1-py3-none-any.whl.metadata (1.6 kB)\n",
            "Requirement already satisfied: packaging in /usr/local/lib/python3.10/dist-packages (from Orange3) (24.2)\n",
            "Requirement already satisfied: pandas!=1.5.0,!=2.0.0,>=1.4.0 in /usr/local/lib/python3.10/dist-packages (from Orange3) (2.2.2)\n",
            "Requirement already satisfied: pip>=19.3 in /usr/local/lib/python3.10/dist-packages (from Orange3) (24.1.2)\n",
            "Requirement already satisfied: pygments>=2.8.0 in /usr/local/lib/python3.10/dist-packages (from Orange3) (2.18.0)\n",
            "Collecting pyqtgraph>=0.13.1 (from Orange3)\n",
            "  Downloading pyqtgraph-0.13.7-py3-none-any.whl.metadata (1.3 kB)\n",
            "Requirement already satisfied: python-louvain>=0.13 in /usr/local/lib/python3.10/dist-packages (from Orange3) (0.16)\n",
            "Requirement already satisfied: pyyaml in /usr/local/lib/python3.10/dist-packages (from Orange3) (6.0.2)\n",
            "Collecting qtconsole>=4.7.2 (from Orange3)\n",
            "  Downloading qtconsole-5.6.1-py3-none-any.whl.metadata (5.0 kB)\n",
            "Requirement already satisfied: requests in /usr/local/lib/python3.10/dist-packages (from Orange3) (2.32.3)\n",
            "Requirement already satisfied: scikit-learn>=1.5.1 in /usr/local/lib/python3.10/dist-packages (from Orange3) (1.6.0)\n",
            "Requirement already satisfied: scipy>=1.9 in /usr/local/lib/python3.10/dist-packages (from Orange3) (1.13.1)\n",
            "Collecting serverfiles (from Orange3)\n",
            "  Downloading serverfiles-0.3.1.tar.gz (11 kB)\n",
            "  Preparing metadata (setup.py) ... \u001b[?25l\u001b[?25hdone\n",
            "Collecting xgboost<2.1,>=1.7.4 (from Orange3)\n",
            "  Downloading xgboost-2.0.3-py3-none-manylinux2014_x86_64.whl.metadata (2.0 kB)\n",
            "Requirement already satisfied: xlrd>=1.2.0 in /usr/local/lib/python3.10/dist-packages (from Orange3) (2.0.1)\n",
            "Collecting xlsxwriter (from Orange3)\n",
            "  Downloading XlsxWriter-3.2.0-py3-none-any.whl.metadata (2.6 kB)\n",
            "Requirement already satisfied: graphviz in /usr/local/lib/python3.10/dist-packages (from catboost>=1.0.1->Orange3) (0.20.3)\n",
            "Requirement already satisfied: plotly in /usr/local/lib/python3.10/dist-packages (from catboost>=1.0.1->Orange3) (5.24.1)\n",
            "Requirement already satisfied: six in /usr/local/lib/python3.10/dist-packages (from catboost>=1.0.1->Orange3) (1.17.0)\n",
            "Requirement already satisfied: anyio in /usr/local/lib/python3.10/dist-packages (from httpx>=0.21.0->Orange3) (3.7.1)\n",
            "Requirement already satisfied: certifi in /usr/local/lib/python3.10/dist-packages (from httpx>=0.21.0->Orange3) (2024.12.14)\n",
            "Requirement already satisfied: httpcore==1.* in /usr/local/lib/python3.10/dist-packages (from httpx>=0.21.0->Orange3) (1.0.7)\n",
            "Requirement already satisfied: idna in /usr/local/lib/python3.10/dist-packages (from httpx>=0.21.0->Orange3) (3.10)\n",
            "Requirement already satisfied: h11<0.15,>=0.13 in /usr/local/lib/python3.10/dist-packages (from httpcore==1.*->httpx>=0.21.0->Orange3) (0.14.0)\n",
            "Requirement already satisfied: contourpy>=1.0.1 in /usr/local/lib/python3.10/dist-packages (from matplotlib>=3.2.0->Orange3) (1.3.1)\n",
            "Requirement already satisfied: cycler>=0.10 in /usr/local/lib/python3.10/dist-packages (from matplotlib>=3.2.0->Orange3) (0.12.1)\n",
            "Requirement already satisfied: fonttools>=4.22.0 in /usr/local/lib/python3.10/dist-packages (from matplotlib>=3.2.0->Orange3) (4.55.3)\n",
            "Requirement already satisfied: kiwisolver>=1.3.1 in /usr/local/lib/python3.10/dist-packages (from matplotlib>=3.2.0->Orange3) (1.4.8)\n",
            "Requirement already satisfied: pillow>=8 in /usr/local/lib/python3.10/dist-packages (from matplotlib>=3.2.0->Orange3) (11.1.0)\n",
            "Requirement already satisfied: pyparsing>=2.3.1 in /usr/local/lib/python3.10/dist-packages (from matplotlib>=3.2.0->Orange3) (3.2.1)\n",
            "Requirement already satisfied: python-dateutil>=2.7 in /usr/local/lib/python3.10/dist-packages (from matplotlib>=3.2.0->Orange3) (2.8.2)\n",
            "Requirement already satisfied: et-xmlfile in /usr/local/lib/python3.10/dist-packages (from openpyxl>=3.1.3->Orange3) (2.0.0)\n",
            "Requirement already satisfied: docutils in /usr/local/lib/python3.10/dist-packages (from orange-canvas-core<0.3a,>=0.2.5->Orange3) (0.21.2)\n",
            "Collecting commonmark>=0.8.1 (from orange-canvas-core<0.3a,>=0.2.5->Orange3)\n",
            "  Downloading commonmark-0.9.1-py2.py3-none-any.whl.metadata (5.7 kB)\n",
            "Collecting requests-cache (from orange-canvas-core<0.3a,>=0.2.5->Orange3)\n",
            "  Downloading requests_cache-1.2.1-py3-none-any.whl.metadata (9.9 kB)\n",
            "Collecting dictdiffer (from orange-canvas-core<0.3a,>=0.2.5->Orange3)\n",
            "  Downloading dictdiffer-0.9.0-py2.py3-none-any.whl.metadata (4.8 kB)\n",
            "Collecting qasync>=0.10.0 (from orange-canvas-core<0.3a,>=0.2.5->Orange3)\n",
            "  Downloading qasync-0.27.1-py3-none-any.whl.metadata (4.2 kB)\n",
            "Requirement already satisfied: typing_extensions in /usr/local/lib/python3.10/dist-packages (from orange-canvas-core<0.3a,>=0.2.5->Orange3) (4.12.2)\n",
            "Requirement already satisfied: pytz>=2020.1 in /usr/local/lib/python3.10/dist-packages (from pandas!=1.5.0,!=2.0.0,>=1.4.0->Orange3) (2024.2)\n",
            "Requirement already satisfied: tzdata>=2022.7 in /usr/local/lib/python3.10/dist-packages (from pandas!=1.5.0,!=2.0.0,>=1.4.0->Orange3) (2024.2)\n",
            "Requirement already satisfied: traitlets!=5.2.1,!=5.2.2 in /usr/local/lib/python3.10/dist-packages (from qtconsole>=4.7.2->Orange3) (5.7.1)\n",
            "Requirement already satisfied: jupyter-core in /usr/local/lib/python3.10/dist-packages (from qtconsole>=4.7.2->Orange3) (5.7.2)\n",
            "Requirement already satisfied: jupyter-client>=4.1 in /usr/local/lib/python3.10/dist-packages (from qtconsole>=4.7.2->Orange3) (6.1.12)\n",
            "Requirement already satisfied: ipykernel>=4.1 in /usr/local/lib/python3.10/dist-packages (from qtconsole>=4.7.2->Orange3) (5.5.6)\n",
            "Collecting qtpy>=2.4.0 (from qtconsole>=4.7.2->Orange3)\n",
            "  Downloading QtPy-2.4.2-py3-none-any.whl.metadata (12 kB)\n",
            "Requirement already satisfied: threadpoolctl>=3.1.0 in /usr/local/lib/python3.10/dist-packages (from scikit-learn>=1.5.1->Orange3) (3.5.0)\n",
            "Collecting jaraco.classes (from keyrings.alt->Orange3)\n",
            "  Downloading jaraco.classes-3.4.0-py3-none-any.whl.metadata (2.6 kB)\n",
            "Collecting jaraco.context (from keyrings.alt->Orange3)\n",
            "  Downloading jaraco.context-6.0.1-py3-none-any.whl.metadata (4.1 kB)\n",
            "Requirement already satisfied: charset-normalizer<4,>=2 in /usr/local/lib/python3.10/dist-packages (from requests->Orange3) (3.4.1)\n",
            "Requirement already satisfied: urllib3<3,>=1.21.1 in /usr/local/lib/python3.10/dist-packages (from requests->Orange3) (2.3.0)\n",
            "Requirement already satisfied: ipython-genutils in /usr/local/lib/python3.10/dist-packages (from ipykernel>=4.1->qtconsole>=4.7.2->Orange3) (0.2.0)\n",
            "Requirement already satisfied: ipython>=5.0.0 in /usr/local/lib/python3.10/dist-packages (from ipykernel>=4.1->qtconsole>=4.7.2->Orange3) (7.34.0)\n",
            "Requirement already satisfied: tornado>=4.2 in /usr/local/lib/python3.10/dist-packages (from ipykernel>=4.1->qtconsole>=4.7.2->Orange3) (6.3.3)\n",
            "Requirement already satisfied: pyzmq>=13 in /usr/local/lib/python3.10/dist-packages (from jupyter-client>=4.1->qtconsole>=4.7.2->Orange3) (24.0.1)\n",
            "Requirement already satisfied: platformdirs>=2.5 in /usr/local/lib/python3.10/dist-packages (from jupyter-core->qtconsole>=4.7.2->Orange3) (4.3.6)\n",
            "Requirement already satisfied: sniffio>=1.1 in /usr/local/lib/python3.10/dist-packages (from anyio->httpx>=0.21.0->Orange3) (1.3.1)\n",
            "Requirement already satisfied: exceptiongroup in /usr/local/lib/python3.10/dist-packages (from anyio->httpx>=0.21.0->Orange3) (1.2.2)\n",
            "Requirement already satisfied: more-itertools in /usr/local/lib/python3.10/dist-packages (from jaraco.classes->keyrings.alt->Orange3) (10.5.0)\n",
            "Collecting backports.tarfile (from jaraco.context->keyrings.alt->Orange3)\n",
            "  Downloading backports.tarfile-1.2.0-py3-none-any.whl.metadata (2.0 kB)\n",
            "Requirement already satisfied: tenacity>=6.2.0 in /usr/local/lib/python3.10/dist-packages (from plotly->catboost>=1.0.1->Orange3) (9.0.0)\n",
            "Requirement already satisfied: attrs>=21.2 in /usr/local/lib/python3.10/dist-packages (from requests-cache->orange-canvas-core<0.3a,>=0.2.5->Orange3) (24.3.0)\n",
            "Collecting cattrs>=22.2 (from requests-cache->orange-canvas-core<0.3a,>=0.2.5->Orange3)\n",
            "  Downloading cattrs-24.1.2-py3-none-any.whl.metadata (8.4 kB)\n",
            "Collecting url-normalize>=1.4 (from requests-cache->orange-canvas-core<0.3a,>=0.2.5->Orange3)\n",
            "  Downloading url_normalize-1.4.3-py2.py3-none-any.whl.metadata (3.1 kB)\n",
            "Requirement already satisfied: setuptools>=18.5 in /usr/local/lib/python3.10/dist-packages (from ipython>=5.0.0->ipykernel>=4.1->qtconsole>=4.7.2->Orange3) (75.1.0)\n",
            "Collecting jedi>=0.16 (from ipython>=5.0.0->ipykernel>=4.1->qtconsole>=4.7.2->Orange3)\n",
            "  Downloading jedi-0.19.2-py2.py3-none-any.whl.metadata (22 kB)\n",
            "Requirement already satisfied: decorator in /usr/local/lib/python3.10/dist-packages (from ipython>=5.0.0->ipykernel>=4.1->qtconsole>=4.7.2->Orange3) (4.4.2)\n",
            "Requirement already satisfied: pickleshare in /usr/local/lib/python3.10/dist-packages (from ipython>=5.0.0->ipykernel>=4.1->qtconsole>=4.7.2->Orange3) (0.7.5)\n",
            "Requirement already satisfied: prompt-toolkit!=3.0.0,!=3.0.1,<3.1.0,>=2.0.0 in /usr/local/lib/python3.10/dist-packages (from ipython>=5.0.0->ipykernel>=4.1->qtconsole>=4.7.2->Orange3) (3.0.48)\n",
            "Requirement already satisfied: backcall in /usr/local/lib/python3.10/dist-packages (from ipython>=5.0.0->ipykernel>=4.1->qtconsole>=4.7.2->Orange3) (0.2.0)\n",
            "Requirement already satisfied: matplotlib-inline in /usr/local/lib/python3.10/dist-packages (from ipython>=5.0.0->ipykernel>=4.1->qtconsole>=4.7.2->Orange3) (0.1.7)\n",
            "Requirement already satisfied: pexpect>4.3 in /usr/local/lib/python3.10/dist-packages (from ipython>=5.0.0->ipykernel>=4.1->qtconsole>=4.7.2->Orange3) (4.9.0)\n",
            "Requirement already satisfied: parso<0.9.0,>=0.8.4 in /usr/local/lib/python3.10/dist-packages (from jedi>=0.16->ipython>=5.0.0->ipykernel>=4.1->qtconsole>=4.7.2->Orange3) (0.8.4)\n",
            "Requirement already satisfied: ptyprocess>=0.5 in /usr/local/lib/python3.10/dist-packages (from pexpect>4.3->ipython>=5.0.0->ipykernel>=4.1->qtconsole>=4.7.2->Orange3) (0.7.0)\n",
            "Requirement already satisfied: wcwidth in /usr/local/lib/python3.10/dist-packages (from prompt-toolkit!=3.0.0,!=3.0.1,<3.1.0,>=2.0.0->ipython>=5.0.0->ipykernel>=4.1->qtconsole>=4.7.2->Orange3) (0.2.13)\n",
            "Downloading Orange3-3.38.1-cp310-cp310-manylinux_2_17_x86_64.manylinux2014_x86_64.whl (6.3 MB)\n",
            "\u001b[2K   \u001b[90m━━━━━━━━━━━━━━━━━━━━━━━━━━━━━━━━━━━━━━━━\u001b[0m \u001b[32m6.3/6.3 MB\u001b[0m \u001b[31m32.3 MB/s\u001b[0m eta \u001b[36m0:00:00\u001b[0m\n",
            "\u001b[?25hDownloading AnyQt-0.2.0-py3-none-any.whl (56 kB)\n",
            "\u001b[2K   \u001b[90m━━━━━━━━━━━━━━━━━━━━━━━━━━━━━━━━━━━━━━━━\u001b[0m \u001b[32m56.2/56.2 kB\u001b[0m \u001b[31m2.6 MB/s\u001b[0m eta \u001b[36m0:00:00\u001b[0m\n",
            "\u001b[?25hDownloading catboost-1.2.7-cp310-cp310-manylinux2014_x86_64.whl (98.7 MB)\n",
            "\u001b[2K   \u001b[90m━━━━━━━━━━━━━━━━━━━━━━━━━━━━━━━━━━━━━━━━\u001b[0m \u001b[32m98.7/98.7 MB\u001b[0m \u001b[31m6.2 MB/s\u001b[0m eta \u001b[36m0:00:00\u001b[0m\n",
            "\u001b[?25hDownloading openTSNE-1.0.2-cp310-cp310-manylinux_2_17_x86_64.manylinux2014_x86_64.whl (3.0 MB)\n",
            "\u001b[2K   \u001b[90m━━━━━━━━━━━━━━━━━━━━━━━━━━━━━━━━━━━━━━━━\u001b[0m \u001b[32m3.0/3.0 MB\u001b[0m \u001b[31m40.0 MB/s\u001b[0m eta \u001b[36m0:00:00\u001b[0m\n",
            "\u001b[?25hDownloading orange_canvas_core-0.2.5-py3-none-any.whl (534 kB)\n",
            "\u001b[2K   \u001b[90m━━━━━━━━━━━━━━━━━━━━━━━━━━━━━━━━━━━━━━━━\u001b[0m \u001b[32m534.6/534.6 kB\u001b[0m \u001b[31m19.3 MB/s\u001b[0m eta \u001b[36m0:00:00\u001b[0m\n",
            "\u001b[?25hDownloading orange_widget_base-4.25.1-py3-none-any.whl (270 kB)\n",
            "\u001b[2K   \u001b[90m━━━━━━━━━━━━━━━━━━━━━━━━━━━━━━━━━━━━━━━━\u001b[0m \u001b[32m270.2/270.2 kB\u001b[0m \u001b[31m12.1 MB/s\u001b[0m eta \u001b[36m0:00:00\u001b[0m\n",
            "\u001b[?25hDownloading pyqtgraph-0.13.7-py3-none-any.whl (1.9 MB)\n",
            "\u001b[2K   \u001b[90m━━━━━━━━━━━━━━━━━━━━━━━━━━━━━━━━━━━━━━━━\u001b[0m \u001b[32m1.9/1.9 MB\u001b[0m \u001b[31m33.6 MB/s\u001b[0m eta \u001b[36m0:00:00\u001b[0m\n",
            "\u001b[?25hDownloading qtconsole-5.6.1-py3-none-any.whl (125 kB)\n",
            "\u001b[2K   \u001b[90m━━━━━━━━━━━━━━━━━━━━━━━━━━━━━━━━━━━━━━━━\u001b[0m \u001b[32m125.0/125.0 kB\u001b[0m \u001b[31m7.3 MB/s\u001b[0m eta \u001b[36m0:00:00\u001b[0m\n",
            "\u001b[?25hDownloading xgboost-2.0.3-py3-none-manylinux2014_x86_64.whl (297.1 MB)\n",
            "\u001b[2K   \u001b[90m━━━━━━━━━━━━━━━━━━━━━━━━━━━━━━━━━━━━━━━━\u001b[0m \u001b[32m297.1/297.1 MB\u001b[0m \u001b[31m4.2 MB/s\u001b[0m eta \u001b[36m0:00:00\u001b[0m\n",
            "\u001b[?25hDownloading keyrings.alt-5.0.2-py3-none-any.whl (17 kB)\n",
            "Downloading XlsxWriter-3.2.0-py3-none-any.whl (159 kB)\n",
            "\u001b[2K   \u001b[90m━━━━━━━━━━━━━━━━━━━━━━━━━━━━━━━━━━━━━━━━\u001b[0m \u001b[32m159.9/159.9 kB\u001b[0m \u001b[31m7.8 MB/s\u001b[0m eta \u001b[36m0:00:00\u001b[0m\n",
            "\u001b[?25hDownloading commonmark-0.9.1-py2.py3-none-any.whl (51 kB)\n",
            "\u001b[2K   \u001b[90m━━━━━━━━━━━━━━━━━━━━━━━━━━━━━━━━━━━━━━━━\u001b[0m \u001b[32m51.1/51.1 kB\u001b[0m \u001b[31m3.2 MB/s\u001b[0m eta \u001b[36m0:00:00\u001b[0m\n",
            "\u001b[?25hDownloading qasync-0.27.1-py3-none-any.whl (14 kB)\n",
            "Downloading QtPy-2.4.2-py3-none-any.whl (95 kB)\n",
            "\u001b[2K   \u001b[90m━━━━━━━━━━━━━━━━━━━━━━━━━━━━━━━━━━━━━━━━\u001b[0m \u001b[32m95.2/95.2 kB\u001b[0m \u001b[31m6.8 MB/s\u001b[0m eta \u001b[36m0:00:00\u001b[0m\n",
            "\u001b[?25hDownloading dictdiffer-0.9.0-py2.py3-none-any.whl (16 kB)\n",
            "Downloading jaraco.classes-3.4.0-py3-none-any.whl (6.8 kB)\n",
            "Downloading jaraco.context-6.0.1-py3-none-any.whl (6.8 kB)\n",
            "Downloading requests_cache-1.2.1-py3-none-any.whl (61 kB)\n",
            "\u001b[2K   \u001b[90m━━━━━━━━━━━━━━━━━━━━━━━━━━━━━━━━━━━━━━━━\u001b[0m \u001b[32m61.4/61.4 kB\u001b[0m \u001b[31m2.5 MB/s\u001b[0m eta \u001b[36m0:00:00\u001b[0m\n",
            "\u001b[?25hDownloading cattrs-24.1.2-py3-none-any.whl (66 kB)\n",
            "\u001b[2K   \u001b[90m━━━━━━━━━━━━━━━━━━━━━━━━━━━━━━━━━━━━━━━━\u001b[0m \u001b[32m66.4/66.4 kB\u001b[0m \u001b[31m4.5 MB/s\u001b[0m eta \u001b[36m0:00:00\u001b[0m\n",
            "\u001b[?25hDownloading url_normalize-1.4.3-py2.py3-none-any.whl (6.8 kB)\n",
            "Downloading backports.tarfile-1.2.0-py3-none-any.whl (30 kB)\n",
            "Downloading jedi-0.19.2-py2.py3-none-any.whl (1.6 MB)\n",
            "\u001b[2K   \u001b[90m━━━━━━━━━━━━━━━━━━━━━━━━━━━━━━━━━━━━━━━━\u001b[0m \u001b[32m1.6/1.6 MB\u001b[0m \u001b[31m41.3 MB/s\u001b[0m eta \u001b[36m0:00:00\u001b[0m\n",
            "\u001b[?25hBuilding wheels for collected packages: baycomp, serverfiles\n",
            "  Building wheel for baycomp (setup.py) ... \u001b[?25l\u001b[?25hdone\n",
            "  Created wheel for baycomp: filename=baycomp-1.0.3-py3-none-any.whl size=18030 sha256=9905de78303cc3e5b3255c50c4f0da204bc7641d737b78e437c2c69a2c105959\n",
            "  Stored in directory: /root/.cache/pip/wheels/8a/aa/61/8f1e79a2be629eaa2a72b495c56bb667568dac7c33f4e4c408\n",
            "  Building wheel for serverfiles (setup.py) ... \u001b[?25l\u001b[?25hdone\n",
            "  Created wheel for serverfiles: filename=serverfiles-0.3.1-py3-none-any.whl size=6922 sha256=02847214db07ecd858c14a596c9a84c944b0674fdebc2f3a4d0ea38e9c016bb7\n",
            "  Stored in directory: /root/.cache/pip/wheels/d0/b8/e2/d57e11dc10e8916a3cb5ac7605dedaa204052eaa7d5b3eb840\n",
            "Successfully built baycomp serverfiles\n",
            "Installing collected packages: dictdiffer, commonmark, xlsxwriter, url-normalize, qtpy, qasync, pyqtgraph, jedi, jaraco.classes, cattrs, backports.tarfile, AnyQt, xgboost, serverfiles, requests-cache, jaraco.context, orange-canvas-core, openTSNE, keyrings.alt, catboost, baycomp, qtconsole, orange-widget-base, Orange3\n",
            "  Attempting uninstall: xgboost\n",
            "    Found existing installation: xgboost 2.1.3\n",
            "    Uninstalling xgboost-2.1.3:\n",
            "      Successfully uninstalled xgboost-2.1.3\n",
            "Successfully installed AnyQt-0.2.0 Orange3-3.38.1 backports.tarfile-1.2.0 baycomp-1.0.3 catboost-1.2.7 cattrs-24.1.2 commonmark-0.9.1 dictdiffer-0.9.0 jaraco.classes-3.4.0 jaraco.context-6.0.1 jedi-0.19.2 keyrings.alt-5.0.2 openTSNE-1.0.2 orange-canvas-core-0.2.5 orange-widget-base-4.25.1 pyqtgraph-0.13.7 qasync-0.27.1 qtconsole-5.6.1 qtpy-2.4.2 requests-cache-1.2.1 serverfiles-0.3.1 url-normalize-1.4.3 xgboost-2.0.3 xlsxwriter-3.2.0\n"
          ]
        },
        {
          "output_type": "display_data",
          "data": {
            "application/vnd.colab-display-data+json": {
              "pip_warning": {
                "packages": [
                  "backports",
                  "jaraco"
                ]
              },
              "id": "9193b4d398c443c991dfeb2f2bf6b2c9"
            }
          },
          "metadata": {}
        }
      ],
      "source": [
        "!pip install Orange3"
      ]
    },
    {
      "cell_type": "code",
      "source": [
        "import Orange"
      ],
      "metadata": {
        "id": "EMmX4H0kai5i"
      },
      "execution_count": 3,
      "outputs": []
    },
    {
      "cell_type": "markdown",
      "source": [
        "# base risco credito"
      ],
      "metadata": {
        "id": "uzApMd30amoM"
      }
    },
    {
      "cell_type": "code",
      "source": [
        "base_risco_credito = Orange.data.Table('risco_credito_regras.csv') # o arquivo é diferente, na parte de risco\n",
        "                                                                   # tem uma c#risco, isso dai é p o Orange saber\n",
        "                                                                   # que ali é a classe e atrás sao os previsores 👍👍"
      ],
      "metadata": {
        "id": "BUOIwefmaoks"
      },
      "execution_count": 4,
      "outputs": []
    },
    {
      "cell_type": "code",
      "source": [
        "base_risco_credito"
      ],
      "metadata": {
        "colab": {
          "base_uri": "https://localhost:8080/"
        },
        "id": "wWKpIS8id8Sb",
        "outputId": "cf32b17e-db66-41b8-aec0-3b3af6eb0df6"
      },
      "execution_count": 5,
      "outputs": [
        {
          "output_type": "execute_result",
          "data": {
            "text/plain": [
              "[[ruim, alta, nenhuma, 0_15 | alto],\n",
              " [desconhecida, alta, nenhuma, 15_35 | alto],\n",
              " [desconhecida, baixa, nenhuma, 15_35 | moderado],\n",
              " [desconhecida, baixa, nenhuma, acima_35 | alto],\n",
              " [desconhecida, baixa, nenhuma, acima_35 | baixo],\n",
              " ...\n",
              "]"
            ]
          },
          "metadata": {},
          "execution_count": 5
        }
      ]
    },
    {
      "cell_type": "code",
      "source": [
        "base_risco_credito.domain"
      ],
      "metadata": {
        "colab": {
          "base_uri": "https://localhost:8080/"
        },
        "id": "-Nd6vwBae1wc",
        "outputId": "18b84584-25aa-4102-d6f8-69f91fc4f959"
      },
      "execution_count": 7,
      "outputs": [
        {
          "output_type": "execute_result",
          "data": {
            "text/plain": [
              "[historia, divida, garantias, renda | risco]"
            ]
          },
          "metadata": {},
          "execution_count": 7
        }
      ]
    },
    {
      "cell_type": "code",
      "source": [
        "cn2 = Orange.classification.rules.CN2Learner()\n",
        "regras_risco_credito = cn2(base_risco_credito)     # criar as regras"
      ],
      "metadata": {
        "id": "oLym4u88e-VV"
      },
      "execution_count": 8,
      "outputs": []
    },
    {
      "cell_type": "code",
      "source": [
        "for regra in regras_risco_credito.rule_list:\n",
        "  print(regra)"
      ],
      "metadata": {
        "colab": {
          "base_uri": "https://localhost:8080/"
        },
        "id": "AnD4VU4zfc8g",
        "outputId": "7be8513b-de9d-487a-89ea-c2346182dddf"
      },
      "execution_count": 9,
      "outputs": [
        {
          "output_type": "stream",
          "name": "stdout",
          "text": [
            "IF renda==0_15 THEN risco=alto \n",
            "IF historia==boa AND divida!=alta THEN risco=baixo \n",
            "IF historia==boa AND garantias!=nenhuma THEN risco=baixo \n",
            "IF historia==boa AND renda!=15_35 THEN risco=baixo \n",
            "IF historia==boa THEN risco=moderado \n",
            "IF divida==alta THEN risco=alto \n",
            "IF historia!=desconhecida THEN risco=moderado \n",
            "IF garantias==adequada THEN risco=baixo \n",
            "IF renda==15_35 THEN risco=moderado \n",
            "IF historia==desconhecida THEN risco=baixo \n",
            "IF TRUE THEN risco=alto \n"
          ]
        }
      ]
    },
    {
      "cell_type": "code",
      "source": [
        "# historia boa, divida alta, garantias nenhuma, renda > 35           // nao precisa fazer a conversao p atributo categorico p numero\n",
        "# historia ruim, divida alta, garantias adequada, renda < 15         // pq o algoritmo consegue trabalhar com atributo assim\n",
        "\n",
        "previsoes = regras_risco_credito([['boa', 'alta', 'nenhuma', 'acima_35'], ['ruim', 'alta', 'adequada', '0_15']])\n",
        "previsoes       # baixo e alto"
      ],
      "metadata": {
        "colab": {
          "base_uri": "https://localhost:8080/"
        },
        "id": "pz-zzdDjfyL4",
        "outputId": "43853b05-b754-407c-8c74-924917c35cef"
      },
      "execution_count": 10,
      "outputs": [
        {
          "output_type": "execute_result",
          "data": {
            "text/plain": [
              "array([1, 0])"
            ]
          },
          "metadata": {},
          "execution_count": 10
        }
      ]
    },
    {
      "cell_type": "code",
      "source": [
        "base_risco_credito.domain.class_var.values # 0 = alto, 1 = baixo, 2 = moderado"
      ],
      "metadata": {
        "colab": {
          "base_uri": "https://localhost:8080/"
        },
        "id": "sJcubwnpgcaU",
        "outputId": "f23a197b-e75b-45f9-fd63-ad82b3b2d4c0"
      },
      "execution_count": 13,
      "outputs": [
        {
          "output_type": "execute_result",
          "data": {
            "text/plain": [
              "('alto', 'baixo', 'moderado')"
            ]
          },
          "metadata": {},
          "execution_count": 13
        }
      ]
    },
    {
      "cell_type": "code",
      "source": [
        "for i in previsoes:\n",
        "  #print(i)\n",
        "  print(base_risco_credito.domain.class_var.values[i])"
      ],
      "metadata": {
        "colab": {
          "base_uri": "https://localhost:8080/"
        },
        "id": "_Ge_xlLTgpWQ",
        "outputId": "b7038257-cc1a-4389-f831-c4e0facccac8"
      },
      "execution_count": 15,
      "outputs": [
        {
          "output_type": "stream",
          "name": "stdout",
          "text": [
            "baixo\n",
            "alto\n"
          ]
        }
      ]
    },
    {
      "cell_type": "markdown",
      "source": [
        "# base credit - 97.40% ACC"
      ],
      "metadata": {
        "id": "kFI7dTPShYRe"
      }
    },
    {
      "cell_type": "code",
      "source": [
        "base_credit = Orange.data.Table('credit_data_regras.csv')     # 'i#clientd' significa q vai ignorar o id do cliente"
      ],
      "metadata": {
        "id": "J1by3MLFhZun"
      },
      "execution_count": 16,
      "outputs": []
    },
    {
      "cell_type": "code",
      "source": [
        "base_credit.domain"
      ],
      "metadata": {
        "colab": {
          "base_uri": "https://localhost:8080/"
        },
        "id": "oYrDcUlvhsfd",
        "outputId": "c8e692cf-36df-46c0-db03-a605aee026b7"
      },
      "execution_count": 17,
      "outputs": [
        {
          "output_type": "execute_result",
          "data": {
            "text/plain": [
              "[income, age, loan | default]"
            ]
          },
          "metadata": {},
          "execution_count": 17
        }
      ]
    },
    {
      "cell_type": "code",
      "source": [
        "base_dividida = Orange.evaluation.testing.sample(base_credit, n=0.25) # dividir a base de dados de teste"
      ],
      "metadata": {
        "id": "IK_pHUHFiE4l"
      },
      "execution_count": 18,
      "outputs": []
    },
    {
      "cell_type": "code",
      "source": [
        "base_dividida # mostra cada uma da base de dados"
      ],
      "metadata": {
        "colab": {
          "base_uri": "https://localhost:8080/"
        },
        "id": "RwW9-ZXBiNKr",
        "outputId": "34b89d18-d76f-4075-a0f7-8c53fa467e3d"
      },
      "execution_count": 19,
      "outputs": [
        {
          "output_type": "execute_result",
          "data": {
            "text/plain": [
              "([[63453.2, 23.9157, 10668.4 | 1],\n",
              "  [31422.7, 53.8981, 1686.84 | 0],\n",
              "  [67802.7, 49.038, 13443.5 | 0],\n",
              "  [34163.6, 45.7827, 6617.4 | 0],\n",
              "  [39474, 42.3013, 6034.15 | 0],\n",
              "  ...\n",
              " ],\n",
              " [[26934.2, 35.979, 4113.3 | 0],\n",
              "  [39246.5, 48.3221, 919.115 | 0],\n",
              "  [64780.9, 20.2281, 8402.42 | 1],\n",
              "  [44379.7, 50.0887, 1814.34 | 0],\n",
              "  [66008.4, 19.4274, 9189.61 | 1],\n",
              "  ...\n",
              " ])"
            ]
          },
          "metadata": {},
          "execution_count": 19
        }
      ]
    },
    {
      "cell_type": "code",
      "source": [
        "base_dividida[0]"
      ],
      "metadata": {
        "colab": {
          "base_uri": "https://localhost:8080/"
        },
        "id": "Bf6nipTTiSQR",
        "outputId": "c5fe4948-a505-4d43-a70f-dc5193ec26ff"
      },
      "execution_count": 20,
      "outputs": [
        {
          "output_type": "execute_result",
          "data": {
            "text/plain": [
              "[[63453.2, 23.9157, 10668.4 | 1],\n",
              " [31422.7, 53.8981, 1686.84 | 0],\n",
              " [67802.7, 49.038, 13443.5 | 0],\n",
              " [34163.6, 45.7827, 6617.4 | 0],\n",
              " [39474, 42.3013, 6034.15 | 0],\n",
              " ...\n",
              "]"
            ]
          },
          "metadata": {},
          "execution_count": 20
        }
      ]
    },
    {
      "cell_type": "code",
      "source": [
        "base_dividida[1]"
      ],
      "metadata": {
        "colab": {
          "base_uri": "https://localhost:8080/"
        },
        "id": "5mmQPk1TiUSe",
        "outputId": "f897dc09-12d2-4423-b244-3a40a4e2e915"
      },
      "execution_count": 21,
      "outputs": [
        {
          "output_type": "execute_result",
          "data": {
            "text/plain": [
              "[[26934.2, 35.979, 4113.3 | 0],\n",
              " [39246.5, 48.3221, 919.115 | 0],\n",
              " [64780.9, 20.2281, 8402.42 | 1],\n",
              " [44379.7, 50.0887, 1814.34 | 0],\n",
              " [66008.4, 19.4274, 9189.61 | 1],\n",
              " ...\n",
              "]"
            ]
          },
          "metadata": {},
          "execution_count": 21
        }
      ]
    },
    {
      "cell_type": "code",
      "source": [
        "base_treinamento = base_dividida[1]\n",
        "base_teste = base_dividida[0]"
      ],
      "metadata": {
        "id": "sgQ3dsMwiWPz"
      },
      "execution_count": 22,
      "outputs": []
    },
    {
      "cell_type": "code",
      "source": [
        "len(base_treinamento), len(base_teste)"
      ],
      "metadata": {
        "colab": {
          "base_uri": "https://localhost:8080/"
        },
        "id": "TDlsBQI4ihmc",
        "outputId": "7d617127-3c53-42f0-ff46-77cd1cac9513"
      },
      "execution_count": 23,
      "outputs": [
        {
          "output_type": "execute_result",
          "data": {
            "text/plain": [
              "(1500, 500)"
            ]
          },
          "metadata": {},
          "execution_count": 23
        }
      ]
    },
    {
      "cell_type": "code",
      "source": [
        "cn2 = Orange.classification.rules.CN2Learner()\n",
        "regras_credit = cn2(base_treinamento)"
      ],
      "metadata": {
        "id": "KNwshSnjiixC"
      },
      "execution_count": 24,
      "outputs": []
    },
    {
      "cell_type": "code",
      "source": [
        "for regra in regras_credit.rule_list:\n",
        "  print(regra)"
      ],
      "metadata": {
        "colab": {
          "base_uri": "https://localhost:8080/"
        },
        "id": "Qwgi7SsMiqbF",
        "outputId": "b8362453-9dc5-498e-a47d-ad723e82650e"
      },
      "execution_count": 25,
      "outputs": [
        {
          "output_type": "stream",
          "name": "stdout",
          "text": [
            "IF age>=34.9257164876908 THEN default=0 \n",
            "IF loan<=2495.13299137587 AND income>=20568.891305010802 THEN default=0 \n",
            "IF loan>=7708.31562497011 AND age>=18.1760434475727 THEN default=1 \n",
            "IF income>=55931.6545771435 AND income>=58132.4712652713 THEN default=0 \n",
            "IF loan>=5659.509277874139 AND loan>=6360.15489740922 THEN default=1 \n",
            "IF income>=48790.1324336417 AND income>=50895.8103414625 THEN default=0 \n",
            "IF loan>=5836.56338145928 THEN default=1 \n",
            "IF income>=45360.716274008206 THEN default=0 \n",
            "IF income<=31702.3342987522 AND loan>=3665.88089899456 THEN default=1 \n",
            "IF loan>=4849.33378471958 AND age>=18.9473467003554 THEN default=1 \n",
            "IF income>=24857.6948815025 AND income>=38042.0841556042 THEN default=0 \n",
            "IF age>=34.1016539284028 THEN default=0 \n",
            "IF age>=32.516422502230895 THEN default=1 \n",
            "IF income>=22089.8374845274 AND age>=19.716176087502397 THEN default=0 \n",
            "IF income>=38011.7266485468 THEN default=1 \n",
            "IF income>=32197.6207010448 THEN default=0 \n",
            "IF income<=20113.2534933276 THEN default=1 \n",
            "IF income<=20629.3472950347 THEN default=1 \n",
            "IF income<=20908.335100393702 THEN default=1 \n",
            "IF income<=21412.3086119071 THEN default=1 \n",
            "IF income<=21605.7250904851 THEN default=1 \n",
            "IF TRUE THEN default=0 \n"
          ]
        }
      ]
    },
    {
      "cell_type": "code",
      "source": [
        "previsoes = Orange.evaluation.testing.TestOnTestData(base_treinamento, base_teste, [lambda testdata: regras_credit])"
      ],
      "metadata": {
        "id": "S2iqmrt0jqZ9"
      },
      "execution_count": 26,
      "outputs": []
    },
    {
      "cell_type": "code",
      "source": [
        "previsoes"
      ],
      "metadata": {
        "colab": {
          "base_uri": "https://localhost:8080/"
        },
        "id": "ltBiWVqOj036",
        "outputId": "bb12ee13-1e7c-490b-e963-6d2b1e0dbf19"
      },
      "execution_count": 27,
      "outputs": [
        {
          "output_type": "execute_result",
          "data": {
            "text/plain": [
              "<Orange.evaluation.testing.Results at 0x7a0d1441bac0>"
            ]
          },
          "metadata": {},
          "execution_count": 27
        }
      ]
    },
    {
      "cell_type": "code",
      "source": [
        "Orange.evaluation.CA(previsoes)"
      ],
      "metadata": {
        "colab": {
          "base_uri": "https://localhost:8080/"
        },
        "id": "wcCDRgtsj39J",
        "outputId": "a4ea0c6e-dd60-43fb-d224-2fba7053aa6c"
      },
      "execution_count": 30,
      "outputs": [
        {
          "output_type": "execute_result",
          "data": {
            "text/plain": [
              "array([0.978])"
            ]
          },
          "metadata": {},
          "execution_count": 30
        }
      ]
    }
  ]
}