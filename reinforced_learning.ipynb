{
  "nbformat": 4,
  "nbformat_minor": 0,
  "metadata": {
    "colab": {
      "provenance": [],
      "authorship_tag": "ABX9TyNuVhLLlQWKDF+4oqAJOSCn",
      "include_colab_link": true
    },
    "kernelspec": {
      "name": "python3",
      "display_name": "Python 3"
    },
    "language_info": {
      "name": "python"
    }
  },
  "cells": [
    {
      "cell_type": "markdown",
      "metadata": {
        "id": "view-in-github",
        "colab_type": "text"
      },
      "source": [
        "<a href=\"https://colab.research.google.com/github/joaohnt/estudo_ml/blob/main/reinforced_learning.ipynb\" target=\"_parent\"><img src=\"https://colab.research.google.com/assets/colab-badge.svg\" alt=\"Open In Colab\"/></a>"
      ]
    },
    {
      "cell_type": "code",
      "source": [
        "import gym\n",
        "import random\n",
        "import os\n",
        "import numpy as np\n",
        "from time import sleep\n",
        "os.environ[\"SDL_VIDEODRIVER\"] = \"dummy\"\n",
        "gym.__version__"
      ],
      "metadata": {
        "colab": {
          "base_uri": "https://localhost:8080/",
          "height": 35
        },
        "id": "FjVkZISezoT_",
        "outputId": "5a235c3b-0b18-47ac-af18-f0b634f85f58"
      },
      "execution_count": 37,
      "outputs": [
        {
          "output_type": "execute_result",
          "data": {
            "text/plain": [
              "'0.17.3'"
            ],
            "application/vnd.google.colaboratory.intrinsic+json": {
              "type": "string"
            }
          },
          "metadata": {},
          "execution_count": 37
        }
      ]
    },
    {
      "cell_type": "code",
      "source": [
        "!pip uninstall gym"
      ],
      "metadata": {
        "colab": {
          "base_uri": "https://localhost:8080/"
        },
        "id": "vywlP3PFDpBf",
        "outputId": "53eb3fa8-9514-46ed-a06a-2592cf4aaef1"
      },
      "execution_count": 1,
      "outputs": [
        {
          "output_type": "stream",
          "name": "stdout",
          "text": [
            "Found existing installation: gym 0.17.3\n",
            "Uninstalling gym-0.17.3:\n",
            "  Would remove:\n",
            "    /usr/local/lib/python3.11/dist-packages/gym-0.17.3.dist-info/*\n",
            "    /usr/local/lib/python3.11/dist-packages/gym/*\n",
            "Proceed (Y/n)? y\n",
            "  Successfully uninstalled gym-0.17.3\n"
          ]
        }
      ]
    },
    {
      "cell_type": "code",
      "source": [
        "!pip install gym==0.17.3"
      ],
      "metadata": {
        "colab": {
          "base_uri": "https://localhost:8080/"
        },
        "id": "YlE6GnMUDqCK",
        "outputId": "ecc22078-8e83-44e9-c484-bdaa32e5427e"
      },
      "execution_count": 4,
      "outputs": [
        {
          "output_type": "stream",
          "name": "stdout",
          "text": [
            "Collecting gym==0.17.3\n",
            "  Using cached gym-0.17.3-py3-none-any.whl\n",
            "Requirement already satisfied: scipy in /usr/local/lib/python3.11/dist-packages (from gym==0.17.3) (1.13.1)\n",
            "Requirement already satisfied: numpy>=1.10.4 in /usr/local/lib/python3.11/dist-packages (from gym==0.17.3) (1.26.4)\n",
            "Requirement already satisfied: pyglet<=1.5.0,>=1.4.0 in /usr/local/lib/python3.11/dist-packages (from gym==0.17.3) (1.5.0)\n",
            "Requirement already satisfied: cloudpickle<1.7.0,>=1.2.0 in /usr/local/lib/python3.11/dist-packages (from gym==0.17.3) (1.6.0)\n",
            "Requirement already satisfied: future in /usr/local/lib/python3.11/dist-packages (from pyglet<=1.5.0,>=1.4.0->gym==0.17.3) (1.0.0)\n",
            "Installing collected packages: gym\n",
            "Successfully installed gym-0.17.3\n"
          ]
        }
      ]
    },
    {
      "cell_type": "markdown",
      "source": [
        "# config do ambiente"
      ],
      "metadata": {
        "id": "luDGzF4w70O5"
      }
    },
    {
      "cell_type": "code",
      "source": [
        "env = gym.make('Taxi-v3')"
      ],
      "metadata": {
        "id": "3Wf5EuJmz5eH"
      },
      "execution_count": 8,
      "outputs": []
    },
    {
      "cell_type": "code",
      "source": [
        "env.reset()"
      ],
      "metadata": {
        "colab": {
          "base_uri": "https://localhost:8080/"
        },
        "id": "5Sya9nB20rTp",
        "outputId": "59565b30-5698-4e14-bf0e-73af8e3ecf24"
      },
      "execution_count": 10,
      "outputs": [
        {
          "output_type": "execute_result",
          "data": {
            "text/plain": [
              "231"
            ]
          },
          "metadata": {},
          "execution_count": 10
        }
      ]
    },
    {
      "cell_type": "code",
      "source": [
        "print(env.render())      # o taxi(ponto amarelo) tem q ir ate o g e fazer uma rota ate a posicao r, a barrina é obstaculo etcetc"
      ],
      "metadata": {
        "colab": {
          "base_uri": "https://localhost:8080/"
        },
        "id": "u98BeOq0074s",
        "outputId": "1d9c98a7-aee4-4493-d917-ace15bf56607"
      },
      "execution_count": 11,
      "outputs": [
        {
          "output_type": "stream",
          "name": "stdout",
          "text": [
            "+---------+\n",
            "|R: | : :G|\n",
            "| : | : : |\n",
            "| :\u001b[43m \u001b[0m: : : |\n",
            "| | : | : |\n",
            "|\u001b[34;1mY\u001b[0m| : |\u001b[35mB\u001b[0m: |\n",
            "+---------+\n",
            "\n",
            "None\n"
          ]
        }
      ]
    },
    {
      "cell_type": "code",
      "source": [
        "print(env.action_space)  # pode fazer 6 movimentos\n",
        "# 0 = south\n",
        "# 1 = north\n",
        "# 2 = east\n",
        "# 3 = west\n",
        "# 4 = pickup\n",
        "# 5 = dropoff"
      ],
      "metadata": {
        "colab": {
          "base_uri": "https://localhost:8080/"
        },
        "id": "Vd4uWppt1eRG",
        "outputId": "54b8db68-f7e7-4cae-918a-6a4458506780"
      },
      "execution_count": 12,
      "outputs": [
        {
          "output_type": "stream",
          "name": "stdout",
          "text": [
            "Discrete(6)\n"
          ]
        }
      ]
    },
    {
      "cell_type": "code",
      "source": [
        "print(env.observation_space) # (5*5*5*4)"
      ],
      "metadata": {
        "colab": {
          "base_uri": "https://localhost:8080/"
        },
        "id": "cqPhEBPQ3eoS",
        "outputId": "2b96f380-56b2-416e-db24-4a8c97afecc2"
      },
      "execution_count": 13,
      "outputs": [
        {
          "output_type": "stream",
          "name": "stdout",
          "text": [
            "Discrete(500)\n"
          ]
        }
      ]
    },
    {
      "cell_type": "code",
      "source": [
        "env.P[430] # 1 - probabilidade, 2 - proximo estado\n",
        "           # 3 - recompensa, 4 - se levou o passageiro ao ponto final"
      ],
      "metadata": {
        "colab": {
          "base_uri": "https://localhost:8080/"
        },
        "id": "an4gDuY330Y5",
        "outputId": "2088b3c8-f042-47f8-cb3c-60cc69139e98"
      },
      "execution_count": 14,
      "outputs": [
        {
          "output_type": "execute_result",
          "data": {
            "text/plain": [
              "{0: [(1.0, 430, -1, False)],\n",
              " 1: [(1.0, 330, -1, False)],\n",
              " 2: [(1.0, 450, -1, False)],\n",
              " 3: [(1.0, 430, -1, False)],\n",
              " 4: [(1.0, 430, -10, False)],\n",
              " 5: [(1.0, 430, -10, False)]}"
            ]
          },
          "metadata": {},
          "execution_count": 14
        }
      ]
    },
    {
      "cell_type": "markdown",
      "source": [],
      "metadata": {
        "id": "6ZJGsCSC7165"
      }
    },
    {
      "cell_type": "markdown",
      "source": [
        "# treinamento"
      ],
      "metadata": {
        "id": "qvMPmvAj72kp"
      }
    },
    {
      "cell_type": "markdown",
      "source": [
        "![image.png](data:image/png;base64,iVBORw0KGgoAAAANSUhEUgAAAmgAAABACAYAAACuj4s7AAAb6klEQVR4Ae2dCfh/TzXHj51k34mQkCgRWbMmiuzZ951IhLIUpSSKKEmRXba0PCll/0vIrhB/QtlTCdmXz+v/u6fe5n+Xmblz7+fezz3neT7Pvd/7nTvL+56ZOXPmnDNmQYFAIBAIBAKBQCAQCAQCgUAgEAgEAoFAIBAIBAKBQCAQCAQCgUAgEAgEAoFAIBAIBAKBQCAQCAQCgUAgEAgEAoFAIBAIBAKBQCAQCAQCgUAgEAgEAoFAIBAIBAKBQCAQCAQCgUAgEAgEAoFAIBAIBAKBQCAQCAQCgUAgEAgEAoFAIBAIBAJbQODlzewTzezxZvZpW6jQSnV4STN7spl9k5ndeKUyo5hAwBF4GTP7aDN7rJl9oT88yPWnzeyBZnazg7Q3mhkIBAKBQBECCCifbWZ/bWb/a2b/ZWb3KMph34mvZ2bP7NpO+x9lZjfcd5Oi9jtB4JPM7C863vtvM/vmndS7RTVf3cz+SPrdE8zsrVtkHHkEAjMQeD0z+1Iz+7IZeezt1Vcxs+8zsw83s5fbW+Vb1ZcB6R3M7CPN7PPN7MPM7C3N7KVbFVCRD8z4izJIPsTMrl+Rz95feanue/xJh8ULO6F17+1aq/5b5O212l5TzmuYGQIJCwJ+32tmb1aT0c7feQkzu62Z/X6Hw7+b2RfvvE1brP4rdeM6Y3urHzsuQzRVxuuY2XWGXj7Tc7S4j+sUFPTJFxxIWGGh6GPR88zs3mb2imf6DqsWy8R/u+7Ds0J2EPTKoPT9ZsagvSa9hZk9u6vT35nZB6xZ+EbLYiD7bvlO99toPbdQrS3z9hbwGaoDk9fVHY8xGLJqPTq9gpk9SPrdQ80M4S2oDQL3FWx17plz/8kDVbtBQVns1vyZmT3yZGZyq4H8ln6MxuheZvafUm/m6ocdSEC7+UlB8bvSfvjiWWb2wUuDf878WRH/ZtJoGv6PnWpfGYLnf2Nmt1mpwm9gZn/Z1Y1J4qYrlbuXYh4s3+2ee6n0ivXcMm+vCENxUSzCXEv7z2b2zsU5XPYL95F+9y2X3dRVW3eV4DpHKNN3326gBWjTv7qbzzR9zv2vdwuWtYRzFga/kmDzxJPAeJOBtl3yY0ydsD3/K8Hjfy7VLpZtTFSkypQ/c7Jvelv5wjDH1yRpEN5eW9IscYvmw5mSlcItlyhk53nCrBht+/e76JVE4bfaMm8XNmXV5Ew6TxKeYmsv6NoI/IBghNPS2vR+p7H7i7rfJQjQOKFgsuFjGVc0lO9tZmw1Yn/0Xcn/EZR5zu+NTnaSn5pomP4lwzTnbkmevMPc9mqnsfXtzezjThqqrzsJAM9P0lE/BLylif7441I2C6a1FCRLt21O/mxtfpvgwvfgW14MsVWYbmd+wUjrvjYBg86zJGEA6Z2VbYWgfgRwHvinDqu/PRlwv2p/skM93Tpvb/ljfJb0O0wagvoReE0ze06HFZP36/YnW+ypTtp4du+d2L7y8X5osv21JE2fuQuaJc/nFzJAuaOk5z1snfuI3ZzHJGmZP2/dl7jhs3Tb92Ma5r33rFBQ6PdGk3YRC8ob9awI7jLxtVhV/JswKMz5hhPv1P6bFRFbmnQYrvwdNIzAXeW7HMmztQ+RrfN2X5238gxtuW8d/GunudhK3bZYj8+VfveAlSt4aQIaDmkuWLGLkxLG/v8haUjLNmVKjH+eDxq2KWKL2tNzRSAaox9J0iOkLzUPspWndQtFxbW/zGuJjTpY8T1e/9rJ9vMEb0z3RvKPT2fPoZ9LGKZvBZOTz1Qa3VI9kkv/FC5D/8dmyIVntp/7Bq6hdy/p+R54e8t4s2XmY8LDt1zRjdSNbRbf+qL/oWVZiy5NQPvBjvfQgvTZGr+L8CY8+owBoInR5zycY/Lxk5Ke94haMEZvamY4zHkZXL997IXK/+EU8PdSzlNPXosvW5nXpb8Gb6it/DfuucHEElPmYk87dwVADBJ99w4LAIEtwnOlHEJ8BE0joN/mSLFxFJmt87bWdWv32LrgEeX9+xZbq+BG60MAW8cMt/+16NIENMK5oP1AUOsjXTyA9/f0JToJNZ8n3wPbtSnCLMS/H9cc7cu3Ju/g4dmaPiEp4x1bF3Bh+RF6y78j8gO7AbsjVnwe6NUbU2JY950CAu8vod1CK+d1G1ollQCPNgkHAyZvBMqP7/apMQBdO7YbdXm30zbSZ568ZO/UxZqjHu4NhBqfAYZ9dPbXSwijeMcNL6Oj0R54e8vfRDUUeGrPpaP0O4z1vd/98VzQCt7fkoDGZIjWi5MmsGNm/OqzybvuKZYeGij/0Wdz6YcFZ/BmPO8jTHFYXGDTNkXUw78dV4Ix5xDt1Pe4zxEGc/L2NE+RMv7UH868Ljn/1Fat1TjxPoIX3+NTait0zvcIrqiMhTo5V3tGvVMBDa1Na1JPHbw0agiBB2HMQ3Rom/Ue43pWbkxOSxIeRmAF3lq+3/9B5yn0tO7/qNBL1dkYLWv+b7JkgzaY9x54e4OwvahKGJo7P+KhWENH7HcIJ7rlpR7wNRjmvrMFAQ3TCraTsFd03vErmHyJLD5pF4GO/f9ccQTLpT9P3m2BMx6aWh/sy3IIbZa+x/3b5LyYmYbQIJr/12e+N5RsjflnqOy+50uME0R9IE6q47ZLJUUa72zIY6UPVJ5pSAeAQNXbmvxIGfKv8VjBPVqjn5MPgthPdO7KqUqb/xOkdynCK04HMIIe8h0YrDjjj/LTH6unGnq65PXpNRkk7xAQ990X/rGl3YL2wNst2rlUHhoAckg7MVb2kfvdL0u/u/MYSA3/d24B7SPE/o7xCxsgwiI9uouh6WOaB4ol4Dhjnz/nfihGWQoT247+HlfMcpiQ51K6Vck2ag6xGNb6cP+eOS9mpkkVIeyy1NKa809OHZccJ7AF1O+yKzMNOohWnvvPyUFU0vxqkkfrODB8PK1jbgeWKl6z7ep54GnK8RB6bhdq9kck5bRWT3t9PiPRanGmH8doKanNhNe71sgRIdTzaCE8YzDr+S11zdmKULz67vfA23313soztLXqIUfsqVLC3MF55Gj9Tk/1WGJXoe9bnFNAQzhTo2x2AFSDxFmlCFHwA17BmJK4E4DzyFf1NWrg2YcKb/E+zmotCC2L14dr7k4KnoP6HvetYtGhXXLsyJeA0bW09vyTU88lx4l0m3NX4WfunjAVHYyVQAml2qealfZYee+R1PGVxxL3/A/m9phgMPdQHCc0Q+4hs4SBJ1VDK8dE5R0Zz1nKTYnBSwc70n9Imijz72+Q8kq1o31F7EVA2wNv9+G7lWdsFzmfci0xe6ANR+93XyH4/c5KH/VcAhrCu45XCGd945puZ2Ifq2Mh8clKbGzZ4lP+JHDsXGJrWtvBluzYuZ1a3jsl9aFurTx4URZoW2sF/nPMP4pR3/3S4wTfT7FDm7sbolNo5XEvLqEbJu+TV2sVosZ9IVxEKXGourZxzInhh7q0GJ+2JjR2z5S6EJ36xiOF6N459a89pQEDXW8/K9e5hEMDE86SvxaHb++Bt+d+iyXfRyPifIMdY8nkSb2O3u84ScDxo6+vQecQ0NIwNphuDB03xO6MY6Jbm3jYlS4A0v6dEz5j6htguuH140oQ3FxKbdfQPpf2maGy2GHRerHoLqVzzT9T9VxjnEBucPx+a6pCW/k/+/WqNqUBbhuQW0cVnnif1UfuiiO3DHWlxsC/lNC4qaE82rEhLSErKDxIrlNaSEZ6wlw4k3DlFIYh4tt4DDPSsg1aSxx14uWuNVHU1rXVe3vh7VbtXSIf7duME6V09H7HQfLe77jW2lUyJmHWkfP7JSnzxzLfId85tls4Xmk7x0wxPipJ6+/dvpC5EAoZy/x9ri1MUnBg0DxLzlRNNfZztiFTOFJeqrFpPNf8k7Yl/XuNcYL507/rP6QV2Orf2Ad4pf1aat+ldhbkgVF2a9IAtbWCShqEF4P7Ppfv1nX3/NI4bqyuxmLrvHnybfBiraV0UGRwu3TaC29v+TsQ8sXHBcwYaujI/e79BT9wxLuxhrZsUoCGiPArzidoxa4/0khdLPo7Nd7BN5MyyadVyIlHJvl+7Ehb0n/p9i11+tk0wYy/tS+SN/HQSuic809OPZceJ65KvmtJKJec+i+SJlXJ8uExyC8htFG85z/CGrQmVmSe/+9VZq5nCXpebCGWdMDKoq957X2lDZQ/5bqNJtPryRVtRi1hu6Z5HeGIrL3wdu03LX2PxcDQttNQXhhsO9/kxoJK8zpyv3svwQ8cxwSXFDf9e8sCGuYOziNcH6UV77n/8iQ9fFVzTrBulVLuUCDbniqMPvIjzbxNxETLpVTIaGET52XfP8GNOHsldM75J6eeS48TP5rgt4tA96lUzvEkJYQLsTMyVwwqh7YOPV8Cwj6++93AH05c7ynlXD2Rduzfqbut151Bpda+a6w8/Z9GFqfcqXAX6fFZcxiKsCTeVq6lsdS0HXu5Pwdvg00Nfy+JKdv19+u2y0v7t8aQw3mmlo7a726T9Du8/GqIcZZxL+enBu7YguW8Qxo09jWkDkiMLZxDOkZ6xiVmJzWeweTPiQE6pnFm51xCgNY8S7TGfTHQxuxoS8cJtqu1bqXeoeecf3K/y5LjRKrdLBVwc9vQNN29ko9eajznBvXOODmG9R6Xis6Zq61TuwBOPJhDCEbq0el1pzOiNl+KdA+cMnGuGKLU8WLO5EgZtNnbyaA9l1CXe9Tvpa549syhc/A29a3h7zntHHoXO1ACfj5Pvj0a4xLCHd/55oUlL/akPWK/01M8wFHD+vRA1OTR2k4C7Gg4j3C90Ugr2A5VLdPULsJIVtecuanlpmGKxt4d+l9qCvKYoYQ9z1PhYirkR+k4gRJhTnvPOf/0wDX4aKlx4qEJfiyeNk9E5NePzv57LrEa1EjZ5EO8kTFSN2Q6ai5xBJLXE+FqLqG50yCSnjeCENGVlyAmOC/nBRMF3EfS8s5ct2A9KLhkVThUzTT+kLer5XVOEEbqvTZvU2Ytfw/hXPMcwZbVeRphnW9T6mCTTlhzDMlpy9H6HcfKeJ/A4WcNWltAYyzzNk45kqSafGyLawitsDp9seisdcDQ8jUWF21iOzaHWKSqQxfvjpnO1IwTafDcUgHjnPNPDoaaZolxIhVwNT6flr2pe906hKm+o6B2GuOHd1GTj2k9WNETUZq0/IiKnEu3lvd4N1fzNpY/kw1tUFdv8q49RmqsLGwsvN1cx87mw4BfjW5JX3L0SV891H6hxG28Ly+ebdkmxuu8Jm9T5hz+9jrPveLg8xvCayyCNKxLqR2ZTiTwYYtjwo7U79Srr9a5qZQn1hTQMLTWcW3MUJ/v/odJerQlNaTnMlM+nqstSOcn8s3dfk0dC1gIDUUyqB0nmAMU65JoC+eef2q+TetxIlXI1Ng91rRj1ju6wuPjE3E+h7BXUImcd4ecAwh2ifo3dSZQZvN74i71URonpYU628vREB7Uo9YJwfPru2I/5m3kyskLQ5Qav5L+XYcSZz5HVe/lPyzznbFktzqdafqchX9jWyVjdfP/rcHblNWCv73Oc69u8/SMk4bYbSz0AGe0aiXEBKyaCgyNW9ER+h3BRL3fYaS8Bq0poGFj5e3j+tSRBt4xSUt6vFxrSL36yWcsrEdu/mw/644QAXT7Au2m+aVaZmwAiaWW0txxQvsxbSZkRi6de/7JrWdfulbjBCFPwI3f1A5WXz3O8iyN0J9zkCiSbSqN0jGHQjewitTjYhwknqW/txpBQYO2jqmPNQuCwLLyGBL8PC12bV6vJWKkoLL1/LkORRXnaKI0tg8avrkx2XTl2sKY1nHb8nUN3qb9rfi7FZZsI6kTyG2F90oFNOqEttd5d8oA3NsQ/e4KEqqR+UoHZ+HrmgJaaiv72wNtQzhJtwDhKQzrayg9qxhbv7mUeqNyBu0UYajP9qr3D65Dioq54wTHTWk5OP7k0rnnn6F6rjlOqN3504YqtLXn7OWrQMBqecx4nfrfI2EUNGk5Hoas6J3BsFUYEuiGMNKB58FDiZLnuDlTJgLKGCFget3GtiLoFGDkv9yjl1idqSaCqMY6iVI3vF85HsXr4VfdDsXO4kE953aOtQ1bQS2bwfIItCZvg+dc/l7qm8wV0Ii/57yYG8og+t2VRZUuTFkwrEE6Ti595iDjkbYRh5TUFgzveF8gPkF4CZ7SnZA3zogAAH6Mm2lwdQSQuXTXpG5T5j5o//xYQO8fYD9FtePE9ZL6DR1X2Ff+0vNP7bzYepzoazvPUHD4N+JaelrSUL6rPCeavVaewLN9xEfWwZp3WD3kqqlVLf3EvgImnqmB6ZTA5Vn9fNc21NVDggnBI1W6HvMsekCCFQea51IaX0cDDbJVgActmOL9o4ebu4AG/u5qzUCYCnhD9VBPMs9rKO2lPV+Lt8FtLn8vhf1cAU3tfXI9qKPf/X+BHZvSVkf+TPHJmgIadUkXlTioOHE4uttAYjqSbrX5TsjNO3MJxifMWcZI+dnnrdLFfl/+6a4QAXX7iOOoUBB42X4ljENO8NPacYKdKw2hAq4ltOT8Uzsvth4nhvBQoZjvhcnVbohjFrAnckbjSmRnNwgmwCX736plIg1CDbZIuaRq6Rp1P/YAqk4eizFDnWBoXWk9vTv2ROvLykvPc0PTpKs6Tct9Grph7Kim9N3UMxN7Bzo1oUpci4ngyXEl6nFCnR5u9iK3cv7GqzWXNF5Qy8CJueWfM91avE0bS/kbAZsBfc4vZ2LSCa1mixONiIbqmPKujX53heM13tcSjkdD/WptAS31fPRx7Uli04VzCuM1R1bpPMNztLI+TsOfY4eLw1tpfEjym3sizC2TepEnYyzx57Dr5ExVHMqenOxGkI4dpCFhru8blY4TmofOC5SNYJtLS84/NfPiEuPEEBZoQ8HLf6UesEP5rvYc2y/23L0BflWByJ9xRVVdEhWbj6FaKjpEDT1E6njfiQxuKmm97gg3GFBzBAd2YLoiwfZsylbNVbKeH2rxXELQ1YnO8/Ar9hseLDc9RcDTYMfBYJFLeLu6MwdbES50575/CemW5m0wquHvdLD1b1xyzVkgzBXQaB99zes1tfUT/e6KIOJ9nTFnTZf+tQW06044gGEyoqGLWCg7L+mVcXlsTsFzHAFJ3/F78rx3JwCWjlnwtn8rzy/nynzG4hc7qlyqGSc0bxQiWreSBfeS80/NvLjEOKFY+T2Yq/06zgJrabO9Dk2uuP8CNIIaW4LKCH7PaqfGk0vPTUPIYLuuhlAvu6cN+/9jxvPYIBH/iwGL2F/ehvT67JPq/REZqnXqOzfYHZ6Jbo/h9aCjc6SOtoWjmBiwNA3bnlPaixRTjQSPcHtUWpK3wbSGv9Wz1r9z6ZVJaYpaCGjYR/oCC23HWJib6HdXjmXzb5kTvHvqG5b8f20BjbrhZf4sGa9oO55yGMYjwCndTsZw0rH1xhbZ1PYgZjGOad+VhWhq/6bl9t1TZhpmKc2buZD5gwX9T5kZJkAcI6fjdV/efc9qxgnNhzBWOi+UmqwsNf/UzItLjBOKld+nx60R9H73xHYiHlvKrHQ4VNQ1dAfJiy3FOaT73TkTlJfFCgKpnWC6rETwiik9k9L3zMEF7RvbkTWEoElsN1ZfQ4MKQgWeRajZc+3NtC44Bzy3w53BS1exmu5o9615G/xq+BsbRI7JmfPLMTFoIaDRRnUOKtmyO1q/Y1vd7X3QWs8NF1PaP/XMwRJPv9Jy0vSMV3hlfmDX5qFxjfewM8O2cW1s0jqv/XfNOJHWUYOOMw8xp5VS6/mnxbzYYpzowwGnOpdj2BHE5vwiCC2XRommkbevbJkeCcV+9RxignXDUwbAtbYPEHDYrvCPnbO9NKedc9/Fy8frSgyioBcj0JK3ybUlf7+4lm3uWgloYObbU2gVSs8CrG3N3vqdTgh3q230jPcQEPH44zellZpRTLxagUCLcYIAq26zzPiOuc45t+y23D9xDFQzrSEHyIpPuY1X2PrzSZ4rcX36iKMuxogI054PxwTNJYB3JsXQlBXBkkQH0C0pPJJqtFpL1lHzxgnD8eYbBl0bgVa8Tc6t+fvata1/0kpAowYEqHZ7HbZ9pkLy1Nf6ypt763fEGPR+97gzT5xzsY/32yPQapxQm1D4Dc/Qc9CW+yeKHD1/FBONsTir58BvdpmpUSLMQLgLJwzwcDlmHx8jzj5iW1Q1T6lRJR445FNKHMPhQhr78mm+pfmNpVcPGMJhoI7dItFhsPvwSeKxGxckz4lhC96m/kvxdytsVEArPeqprw63ONl2Pr/jMU4H4XippWgv/Q7bICKe+ziHp2GNjdJSOEa+50eg5TiBcoAj+3ycR6NdYxs+F5Ut90/VViKfMA5eHDHwEHXXGYEr9kwYtTMgPUX+N3ReZBpgT7dGuMd7krAeNYTRpW93ospkfx5biNbEobm0He9VJPMtEgKqhgzBVi8nDMMW27JGnVrwNvVckr9b4KDxA3GsaUFqbIyZAf1jCYFkD/0OLaIGYOUotVonqBbfJvLYJgKtxwk88tX5jVh7Syop+lDdYv9kXL+LyCXM2yXxSvvauelneEEgoauQpvesGokRM0TYRGh6vIw4hBmBzjVgJVGR03IQmIiY7d6duNRyDmNr4tSALQo8eNTpBIFAfY7VVGu818hvLm9Tx6X5ew4OLFbYatP+h9NJC0IjgNe3h3HBIWWJY8S22u8QSB8tYyPbKR/UAtjI4yIRWGKcILacnjGJ49oDVzaE31L/5AxUjqvU8e7+F8lNSaPwONPzKgEAwYzYXXhFTlFfjDUHkRVnzRZnWiZ2aBjuw7Bo0o5CbGvi4s5EjH0ffwflIzCXtylpDf7ObZGHlrlKtiK9r3FlsUXIAGwqCZtDtPc5hIkCxvCEj2F7/UhEmwn/wIHZW1y8Helb7KGtS4wT9D/Cf2gfx070TifbNLRJRyDmfvVeBgtszvCaPQoG13znm3SN5vggwjjkEluRCBAaGPbqLp5Mbh4l6Y42WB6tvSW8kJu2lrfJf23+HmuTHwemA/bYfc4Ca6w8/d/R+PBo7dVvHfflCCw5TmADrto0BJQWio/yVq7/BseL+RiHvRm7dBFWquI7EIOEbSXOZAtNTwWA8cqmEQj+3vTnicoFAptAYKlxAm0RJgzsSnHU2FGIQNrYw985M+D8UXCJdgYCgUAgEAgEAoFAIBAIBAKBQCAQCAQCgUAgEAgEAoFAIBAIBAKBQCAQCAQCgUAgEAgEAoFAIBAIBAKBQCAQCAQCgUAgEAgEAoFAIBAIBAKBQCAQCAQCgUAgEAgEAoFAIBAIBAKBQCAQCAQCgUAgEAgEAoFAIBAIBAKBQCAQCAQCgUAgEAgEAoFAIBAIBAKBQCAQCAQCgUAgEAgEAoFAIBAIBAKBQCAQCAQCgUAgEAgEAoFAIBAIBAKBQCAQCAQCgUAgEAgEAoFAIBAIBAKBQCAQCAQCgUAgEAgEAoFAIBAIBAKBQCAQCAQCgUAgEAgEAoFAIBAIBAKBQCAQCAQCgUAgEAgEAoFAIBAIBAKBQCAQCAQCgUAgEAgcAYH/A0p/qt7ALPLOAAAAAElFTkSuQmCC)"
      ],
      "metadata": {
        "id": "jKJ8YAId8K26"
      }
    },
    {
      "cell_type": "code",
      "source": [
        "q_table = np.zeros([env.observation_space.n, env.action_space.n])\n",
        "q_table.shape        # 500 linhas = cada um dos movimentos\n",
        "                     # 6 colunas = cada uma das acoes"
      ],
      "metadata": {
        "colab": {
          "base_uri": "https://localhost:8080/"
        },
        "id": "PKSS9pEq99y2",
        "outputId": "dee4f869-468b-4e25-bcf3-6916b76a5f66"
      },
      "execution_count": 15,
      "outputs": [
        {
          "output_type": "execute_result",
          "data": {
            "text/plain": [
              "(500, 6)"
            ]
          },
          "metadata": {},
          "execution_count": 15
        }
      ]
    },
    {
      "cell_type": "code",
      "source": [
        "q_table"
      ],
      "metadata": {
        "colab": {
          "base_uri": "https://localhost:8080/"
        },
        "id": "-FL-Ihyz-1gI",
        "outputId": "30e44b3d-75cc-4cd2-ab14-5b6be62b89c6"
      },
      "execution_count": 16,
      "outputs": [
        {
          "output_type": "execute_result",
          "data": {
            "text/plain": [
              "array([[0., 0., 0., 0., 0., 0.],\n",
              "       [0., 0., 0., 0., 0., 0.],\n",
              "       [0., 0., 0., 0., 0., 0.],\n",
              "       ...,\n",
              "       [0., 0., 0., 0., 0., 0.],\n",
              "       [0., 0., 0., 0., 0., 0.],\n",
              "       [0., 0., 0., 0., 0., 0.]])"
            ]
          },
          "metadata": {},
          "execution_count": 16
        }
      ]
    },
    {
      "cell_type": "code",
      "source": [
        "# 1-10% 3-90%\n",
        "# exploration / explotation\n",
        "\n",
        "%%time\n",
        "from IPython.display import clear_output\n",
        "\n",
        "alpha = 0.1 # a taxa de aprendizagem\n",
        "gamma = 0.6 # fator de desconto\n",
        "epsilon = 0.1 # prob explorar o ambiente\n",
        "\n",
        "for i in range(100000):\n",
        "  state = env.reset()\n",
        "\n",
        "  penality, reward = 0, 0\n",
        "  done = False\n",
        "  while not done:\n",
        "    # Exploration\n",
        "    if random.uniform(0, 1) < epsilon: # so tem uma prob d 10% p explorar o env\n",
        "      action = env.action_space.sample() # vai escolhar uma acao aleatoria\n",
        "    # Exploitation\n",
        "    else: # caso o contrario vai buscar a melhor acao\n",
        "      action = np.argmax(q_table[state])\n",
        "\n",
        "    next_state, reward, done, info = env.step(action)\n",
        "\n",
        "    q_old = q_table[state, action]\n",
        "    next_max = np.max(q_table[next_state])\n",
        "\n",
        "    q_new = ( 1 - alpha) * q_old + alpha * (reward + gamma + next_max) # formula do qlearning / ( 1 - alpha) * q_old + alpha -> isso é so p normalizar o valor p ficar numa escala menor\n",
        "    q_table[state, action] = q_new\n",
        "\n",
        "    if reward == -10: # -10 é qnd leva o passageiro p lugar errado\n",
        "      penality += 1\n",
        "\n",
        "    state = next_state\n",
        "\n",
        "  if i % 100 == 0:\n",
        "    clear_output(wait=True)\n",
        "    print('Episode: ', i)\n",
        "print(\"ok\")"
      ],
      "metadata": {
        "colab": {
          "base_uri": "https://localhost:8080/"
        },
        "id": "wT7ROlCP73iQ",
        "outputId": "40bedff4-b6b7-4475-c2f8-99d0175758b9"
      },
      "execution_count": 17,
      "outputs": [
        {
          "output_type": "stream",
          "name": "stdout",
          "text": [
            "Episode:  99900\n",
            "ok\n",
            "CPU times: user 54.3 s, sys: 7.35 s, total: 1min 1s\n",
            "Wall time: 1min\n"
          ]
        }
      ]
    },
    {
      "cell_type": "code",
      "source": [
        "q_table # os valores atualizaram por causa da formula"
      ],
      "metadata": {
        "colab": {
          "base_uri": "https://localhost:8080/"
        },
        "id": "CKJkkBdLE4E5",
        "outputId": "9f888681-e5ec-412c-a852-52a37a83e309"
      },
      "execution_count": 18,
      "outputs": [
        {
          "output_type": "execute_result",
          "data": {
            "text/plain": [
              "array([[ 0.        ,  0.        ,  0.        ,  0.        ,  0.        ,\n",
              "         0.        ],\n",
              "       [16.19999945, 16.59999893, 16.19999912, 16.59999572, 17.        ,\n",
              "         7.59999989],\n",
              "       [17.7999965 , 18.19996806, 17.79999953, 18.19999711, 18.6       ,\n",
              "         9.19995822],\n",
              "       ...,\n",
              "       [ 3.79765092, 18.99999872,  4.73187483,  4.64705795,  3.53071574,\n",
              "        -2.22144048],\n",
              "       [ 4.55762915, -0.99226214,  0.79999929, 17.39999578, -1.866     ,\n",
              "        -1.53485371],\n",
              "       [13.45532475, 11.85138663, 11.22353666, 20.2       ,  6.7060229 ,\n",
              "         4.56087233]])"
            ]
          },
          "metadata": {},
          "execution_count": 18
        }
      ]
    },
    {
      "cell_type": "code",
      "source": [
        "env.reset()\n",
        "env.render()"
      ],
      "metadata": {
        "colab": {
          "base_uri": "https://localhost:8080/"
        },
        "id": "QB8KzBfqE7mZ",
        "outputId": "7fe93975-b071-4b43-b0cc-f47cee8a405b"
      },
      "execution_count": 29,
      "outputs": [
        {
          "output_type": "stream",
          "name": "stdout",
          "text": [
            "+---------+\n",
            "|R: | : :\u001b[35mG\u001b[0m|\n",
            "| : | : : |\n",
            "| : : : : |\n",
            "| |\u001b[43m \u001b[0m: | : |\n",
            "|Y| : |\u001b[34;1mB\u001b[0m: |\n",
            "+---------+\n",
            "\n"
          ]
        }
      ]
    },
    {
      "cell_type": "code",
      "source": [
        "env.step(1)\n",
        "env.render()"
      ],
      "metadata": {
        "colab": {
          "base_uri": "https://localhost:8080/"
        },
        "id": "lGxqZCJaHdl4",
        "outputId": "7741c0cd-876f-4932-e896-aa6e8ac09ddb"
      },
      "execution_count": 31,
      "outputs": [
        {
          "output_type": "stream",
          "name": "stdout",
          "text": [
            "+---------+\n",
            "|R: | : :\u001b[35mG\u001b[0m|\n",
            "| : | : : |\n",
            "| :\u001b[43m \u001b[0m: : : |\n",
            "| | : | : |\n",
            "|Y| : |\u001b[34;1mB\u001b[0m: |\n",
            "+---------+\n",
            "  (North)\n"
          ]
        }
      ]
    },
    {
      "cell_type": "markdown",
      "source": [
        "# avaliacao"
      ],
      "metadata": {
        "id": "WTMiPLG6Gqj7"
      }
    },
    {
      "cell_type": "code",
      "source": [
        "total_penalities = 0\n",
        "episodes = 50\n",
        "frames = []\n",
        "\n",
        "for _ in range(episodes):\n",
        "  state = env.reset() # estado inicial randomico\n",
        "  penalities, rewards = 0, 0\n",
        "  done = False\n",
        "  while not done:\n",
        "    # agr precisa consultar a tabela q pra saber ql o movimento\n",
        "    action = np.argmax(q_table[state])\n",
        "    state, reward, done, info = env.step(action)\n",
        "\n",
        "    if reward == -10:\n",
        "      penalities += 1\n",
        "\n",
        "    frames.append({\n",
        "        'frame': env.render(mode = 'ansi'),\n",
        "        'state': state,\n",
        "        'action': action,\n",
        "        'reward': reward\n",
        "    })\n",
        "\n",
        "  total_penalities += penalities\n",
        "\n",
        "print('Episodes: ', episodes)\n",
        "print('Penalities', total_penalities)"
      ],
      "metadata": {
        "colab": {
          "base_uri": "https://localhost:8080/"
        },
        "id": "AvNtM8t7GtNk",
        "outputId": "00491503-3363-48f3-d857-07cd0cf75dd2"
      },
      "execution_count": 33,
      "outputs": [
        {
          "output_type": "stream",
          "name": "stdout",
          "text": [
            "Episodes:  50\n",
            "Penalities 0\n"
          ]
        }
      ]
    },
    {
      "cell_type": "code",
      "source": [
        "frames[0]"
      ],
      "metadata": {
        "colab": {
          "base_uri": "https://localhost:8080/"
        },
        "id": "apFkHJx8IhrM",
        "outputId": "43a8b048-2c18-4ac5-bb06-1e3da2da090b"
      },
      "execution_count": 35,
      "outputs": [
        {
          "output_type": "execute_result",
          "data": {
            "text/plain": [
              "{'frame': '+---------+\\n|R: | :\\x1b[43m \\x1b[0m:\\x1b[35mG\\x1b[0m|\\n| : | : : |\\n| : : : : |\\n| | : | : |\\n|\\x1b[34;1mY\\x1b[0m| : |B: |\\n+---------+\\n  (West)\\n',\n",
              " 'state': 69,\n",
              " 'action': 3,\n",
              " 'reward': -1}"
            ]
          },
          "metadata": {},
          "execution_count": 35
        }
      ]
    },
    {
      "cell_type": "code",
      "source": [
        "for frame in frames:\n",
        "  clear_output(wait=True)\n",
        "  print(frame['frame'])\n",
        "  print('State: ', frame['state'])\n",
        "  print('Action: ', frame['action'])\n",
        "  print('Reward: ', frame['reward'])\n",
        "  sleep(0.5)        # qnd ta verde eh pq ta c passageiro"
      ],
      "metadata": {
        "colab": {
          "base_uri": "https://localhost:8080/"
        },
        "id": "-YXMHrwCIo2i",
        "outputId": "1417a2cc-f631-41cd-a277-b2dee8195481"
      },
      "execution_count": 41,
      "outputs": [
        {
          "output_type": "stream",
          "name": "stdout",
          "text": [
            "+---------+\n",
            "|R: | : :\u001b[35m\u001b[34;1m\u001b[43mG\u001b[0m\u001b[0m\u001b[0m|\n",
            "| : | : : |\n",
            "| : : : : |\n",
            "| | : | : |\n",
            "|Y| : |B: |\n",
            "+---------+\n",
            "  (Dropoff)\n",
            "\n",
            "State:  85\n",
            "Action:  5\n",
            "Reward:  20\n"
          ]
        }
      ]
    }
  ]
}