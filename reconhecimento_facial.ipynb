{
  "nbformat": 4,
  "nbformat_minor": 0,
  "metadata": {
    "colab": {
      "provenance": [],
      "authorship_tag": "ABX9TyPsnu/CNimYHw0vVJkhe8iC",
      "include_colab_link": true
    },
    "kernelspec": {
      "name": "python3",
      "display_name": "Python 3"
    },
    "language_info": {
      "name": "python"
    }
  },
  "cells": [
    {
      "cell_type": "markdown",
      "metadata": {
        "id": "view-in-github",
        "colab_type": "text"
      },
      "source": [
        "<a href=\"https://colab.research.google.com/github/joaohnt/estudo_ml/blob/main/reconhecimento_facial.ipynb\" target=\"_parent\"><img src=\"https://colab.research.google.com/assets/colab-badge.svg\" alt=\"Open In Colab\"/></a>"
      ]
    },
    {
      "cell_type": "code",
      "execution_count": 2,
      "metadata": {
        "id": "eeHQeqZEmLQ1"
      },
      "outputs": [],
      "source": [
        "from PIL import Image\n",
        "import numpy as np\n",
        "import os\n",
        "import cv2"
      ]
    },
    {
      "cell_type": "code",
      "source": [
        "from google.colab import drive\n",
        "drive.mount('/content/drive')"
      ],
      "metadata": {
        "colab": {
          "base_uri": "https://localhost:8080/",
          "height": 0
        },
        "id": "QqGmZnYWolVT",
        "outputId": "79738ccb-aa9b-4826-ea33-0c363d8dfa4c"
      },
      "execution_count": 3,
      "outputs": [
        {
          "output_type": "stream",
          "name": "stdout",
          "text": [
            "Drive already mounted at /content/drive; to attempt to forcibly remount, call drive.mount(\"/content/drive\", force_remount=True).\n"
          ]
        }
      ]
    },
    {
      "cell_type": "code",
      "source": [
        "import zipfile\n",
        "path = '/content/drive/MyDrive/yalefaces.zip'\n",
        "zip_object = zipfile.ZipFile(file=path, mode='r')\n",
        "zip_object.extractall('./')\n",
        "zip_object.close()"
      ],
      "metadata": {
        "id": "2q8XMiFfy4EB"
      },
      "execution_count": 4,
      "outputs": []
    },
    {
      "cell_type": "code",
      "source": [
        "def dados_imagem():\n",
        "  caminhos = [os.path.join('/content/yalefaces/train', f) for f in os.listdir('/content/yalefaces/train')]\n",
        "  faces = []\n",
        "  ids = []\n",
        "  for caminho in caminhos:\n",
        "    imagem = Image.open(caminho).convert('L')\n",
        "    imagem_np = np.array(imagem, 'uint8')\n",
        "    id = int(os.path.split(caminho)[1].split('.')[0].replace('subject', ''))\n",
        "    ids.append(id)\n",
        "    faces.append(imagem_np)\n",
        "  return np.array(ids), faces"
      ],
      "metadata": {
        "id": "ZYfqaW4B3L0F"
      },
      "execution_count": 5,
      "outputs": []
    },
    {
      "cell_type": "code",
      "source": [
        "ids, faces = dados_imagem()"
      ],
      "metadata": {
        "id": "K1vsWGed3ZKM"
      },
      "execution_count": 6,
      "outputs": []
    },
    {
      "cell_type": "code",
      "source": [
        "lbph = cv2.face.LBPHFaceRecognizer_create()\n",
        "lbph.train(faces, ids)\n",
        "lbph.write('classificadorLBPH.yml')"
      ],
      "metadata": {
        "id": "YbCDQdzV3z15"
      },
      "execution_count": 7,
      "outputs": []
    },
    {
      "cell_type": "markdown",
      "source": [
        "# classificacao"
      ],
      "metadata": {
        "id": "DzIIKWDF7lV_"
      }
    },
    {
      "cell_type": "code",
      "source": [
        "reconhecedor = cv2.face.LBPHFaceRecognizer_create()\n",
        "reconhecedor.read('/content/classificadorLBPH.yml')"
      ],
      "metadata": {
        "id": "Fw8TFOET7n5f"
      },
      "execution_count": 9,
      "outputs": []
    },
    {
      "cell_type": "code",
      "source": [
        "img_teste = '/content/yalefaces/test/subject10.sad.gif'\n",
        "img = Image.open(img_teste).convert('L')\n",
        "img_np = np.array(img, 'uint8')\n",
        "print(img_np)"
      ],
      "metadata": {
        "colab": {
          "base_uri": "https://localhost:8080/"
        },
        "id": "KrYHAp5770C3",
        "outputId": "504b31ad-a239-4e04-e842-084a2a7d7765"
      },
      "execution_count": 34,
      "outputs": [
        {
          "output_type": "stream",
          "name": "stdout",
          "text": [
            "[[130 130 130 ... 255 255 255]\n",
            " [255 255 255 ... 255 255 255]\n",
            " [255 255 255 ... 255 255 255]\n",
            " ...\n",
            " [255 255 255 ... 241 255 255]\n",
            " [255 255 255 ... 234 237 252]\n",
            " [ 68  68  68 ...  68  68  68]]\n"
          ]
        }
      ]
    },
    {
      "cell_type": "code",
      "source": [
        "idprevisto, _ = reconhecedor.predict(img_np)\n",
        "print(idprevisto)"
      ],
      "metadata": {
        "colab": {
          "base_uri": "https://localhost:8080/"
        },
        "id": "IRT-r6UE8JbJ",
        "outputId": "02010c36-fd8d-45eb-eb61-14924b8aaed2"
      },
      "execution_count": 35,
      "outputs": [
        {
          "output_type": "stream",
          "name": "stdout",
          "text": [
            "10\n"
          ]
        }
      ]
    },
    {
      "cell_type": "code",
      "source": [
        "idcorreto = int(os.path.split(img_teste)[1].split('.')[0].replace('subject', ''))\n",
        "print(idcorreto)"
      ],
      "metadata": {
        "colab": {
          "base_uri": "https://localhost:8080/"
        },
        "id": "2zXnsrlq8VgA",
        "outputId": "e5a8e527-d469-4a0a-d2a8-fff7c902c358"
      },
      "execution_count": 36,
      "outputs": [
        {
          "output_type": "stream",
          "name": "stdout",
          "text": [
            "10\n"
          ]
        }
      ]
    },
    {
      "cell_type": "code",
      "source": [
        "cv2.putText(img_np, 'P: ' + str(idprevisto), (20, 20), cv2.FONT_HERSHEY_SIMPLEX, 1, (0, 255, 0))\n",
        "cv2.putText(img_np, 'C: ' + str(idprevisto), (20, 50), cv2.FONT_HERSHEY_SIMPLEX, 1, (0, 255, 0))"
      ],
      "metadata": {
        "colab": {
          "base_uri": "https://localhost:8080/",
          "height": 282
        },
        "id": "wgdTuP-f8bao",
        "outputId": "efab065a-4689-4989-dc52-97088fd4c9d6"
      },
      "execution_count": 37,
      "outputs": [
        {
          "output_type": "execute_result",
          "data": {
            "text/plain": [
              "array([[130, 130, 130, ..., 255, 255, 255],\n",
              "       [255, 255, 255, ..., 255, 255, 255],\n",
              "       [255, 255, 255, ..., 255, 255, 255],\n",
              "       ...,\n",
              "       [255, 255, 255, ..., 241, 255, 255],\n",
              "       [255, 255, 255, ..., 234, 237, 252],\n",
              "       [ 68,  68,  68, ...,  68,  68,  68]], dtype=uint8)"
            ],
            "text/html": [
              "<style>\n",
              "      .ndarray_repr .ndarray_raw_data {\n",
              "        display: none;\n",
              "      }\n",
              "      .ndarray_repr.show_array .ndarray_raw_data {\n",
              "        display: block;\n",
              "      }\n",
              "      .ndarray_repr.show_array .ndarray_image_preview {\n",
              "        display: none;\n",
              "      }\n",
              "      </style>\n",
              "      <div id=\"id-9b4ae19f-df3e-4190-9a27-b6d8c61fbc56\" class=\"ndarray_repr\"><pre>ndarray (243, 320) <button style=\"padding: 0 2px;\">show data</button></pre><img src=\"data:image/png;base64,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\" class=\"ndarray_image_preview\" /><pre class=\"ndarray_raw_data\">array([[130, 130, 130, ..., 255, 255, 255],\n",
              "       [255, 255, 255, ..., 255, 255, 255],\n",
              "       [255, 255, 255, ..., 255, 255, 255],\n",
              "       ...,\n",
              "       [255, 255, 255, ..., 241, 255, 255],\n",
              "       [255, 255, 255, ..., 234, 237, 252],\n",
              "       [ 68,  68,  68, ...,  68,  68,  68]], dtype=uint8)</pre></div><script>\n",
              "      (() => {\n",
              "      const titles = ['show data', 'hide data'];\n",
              "      let index = 0\n",
              "      document.querySelector('#id-9b4ae19f-df3e-4190-9a27-b6d8c61fbc56 button').onclick = (e) => {\n",
              "        document.querySelector('#id-9b4ae19f-df3e-4190-9a27-b6d8c61fbc56').classList.toggle('show_array');\n",
              "        index = (++index) % 2;\n",
              "        document.querySelector('#id-9b4ae19f-df3e-4190-9a27-b6d8c61fbc56 button').textContent = titles[index];\n",
              "        e.preventDefault();\n",
              "        e.stopPropagation();\n",
              "      }\n",
              "      })();\n",
              "    </script>"
            ]
          },
          "metadata": {},
          "execution_count": 37
        }
      ]
    }
  ]
}